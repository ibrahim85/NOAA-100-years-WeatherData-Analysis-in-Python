{
 "cells": [
  {
   "cell_type": "markdown",
   "metadata": {},
   "source": [
    "# The first section begins with using spark, sql and hive context to create pandas data frames saved as .csv files from the parquet file on the cluster."
   ]
  },
  {
   "cell_type": "markdown",
   "metadata": {},
   "source": [
    "The following cells will all execute in order on the cluster. "
   ]
  },
  {
   "cell_type": "code",
   "execution_count": null,
   "metadata": {
    "collapsed": true
   },
   "outputs": [],
   "source": [
    "import findspark"
   ]
  },
  {
   "cell_type": "code",
   "execution_count": null,
   "metadata": {
    "collapsed": true
   },
   "outputs": [],
   "source": [
    "try:\n",
    "    findspark.init(spark_home=\"/opt/cloudera/parcels/SPARK2/lib/spark2\")\n",
    "except:\n",
    "    # or if you have it somewhere else\n",
    "    findspark.init(spark_home=\"/Users/danielacuna/Downloads/spark-2.0.0-bin-hadoop2.7\")"
   ]
  },
  {
   "cell_type": "code",
   "execution_count": null,
   "metadata": {
    "collapsed": true
   },
   "outputs": [],
   "source": [
    "import pyspark\n",
    "import numpy as np"
   ]
  },
  {
   "cell_type": "code",
   "execution_count": null,
   "metadata": {
    "collapsed": true
   },
   "outputs": [],
   "source": [
    "conf = pyspark.SparkConf().\\\n",
    "    set('spark.port.maxRetries', 60).\\\n",
    "    setMaster('local[2]')"
   ]
  },
  {
   "cell_type": "code",
   "execution_count": null,
   "metadata": {
    "collapsed": true
   },
   "outputs": [],
   "source": [
    "from pyspark.sql import SQLContext, HiveContext\n",
    "sc = pyspark.SparkContext(conf=conf)\n",
    "sqlContext = HiveContext(sc)"
   ]
  },
  {
   "cell_type": "code",
   "execution_count": null,
   "metadata": {
    "collapsed": true
   },
   "outputs": [],
   "source": [
    "# read the parquet file\n",
    "mapRed_parquet = sqlContext.read.parquet(\"/user/alain/IST718/data/mapRed.parquet\")"
   ]
  },
  {
   "cell_type": "code",
   "execution_count": null,
   "metadata": {
    "collapsed": true
   },
   "outputs": [],
   "source": [
    "# register it as a temporary table\n",
    "mapRed_parquet.registerTempTable(\"weather\")"
   ]
  },
  {
   "cell_type": "code",
   "execution_count": null,
   "metadata": {
    "collapsed": true
   },
   "outputs": [],
   "source": [
    "# View the column names in temporary table\n",
    "mapRed_parquet.columns"
   ]
  },
  {
   "cell_type": "code",
   "execution_count": null,
   "metadata": {
    "collapsed": true
   },
   "outputs": [],
   "source": [
    "# The following query selects the precipitation and max temperature elements from the weather table for US only and groups \n",
    "# these by year, month and element in ascending time order. \n",
    "t = sqlContext.sql('''select Year, Month, Element, AVG(MonthAverage) as AverageValue \n",
    "                    from weather\n",
    "                    where Element IN (\"PRCP\", \"TMAX\") AND CountryCode == \"US\"\n",
    "                    group by Month, Year, Element\n",
    "                    order by Year ASC, Month ASC''')\n",
    "\n",
    "# Check the results\n",
    "t.count(), t.show(20) "
   ]
  },
  {
   "cell_type": "code",
   "execution_count": null,
   "metadata": {
    "collapsed": true
   },
   "outputs": [],
   "source": [
    "# Save t into a CSV file on the cluster\n",
    "t.toPandas().to_csv('/users/alain/mam/US_Prcp_Tmax_byMonth.csv', index = False) "
   ]
  },
  {
   "cell_type": "code",
   "execution_count": null,
   "metadata": {
    "collapsed": true
   },
   "outputs": [],
   "source": [
    "# Save the df as a .csv in this notebook\n",
    "US_Prcp_Tmax_byMonth_DF.to_csv('US_Prcp_Tmax_byMonth_DF.csv', index = False)"
   ]
  },
  {
   "cell_type": "code",
   "execution_count": null,
   "metadata": {
    "collapsed": true
   },
   "outputs": [],
   "source": [
    "# The following query selects the precipitation and max temperature elements from the weather table for the globe and groups \n",
    "# these by year and element in ascending time order. \n",
    "u = sqlContext.sql('''select Year, Element, AVG(MonthAverage) as AverageValue \n",
    "                    from weather\n",
    "                    where Element IN (\"PRCP\", \"TMAX\") \n",
    "                    group by Year, Element\n",
    "                    order by Year ASC''')\n",
    "\n",
    "# Check the results\n",
    "u.count(), u.show(20) "
   ]
  },
  {
   "cell_type": "code",
   "execution_count": null,
   "metadata": {
    "collapsed": true
   },
   "outputs": [],
   "source": [
    "# Save u into a CSV file on the cluster\n",
    "u.toPandas().to_csv('/users/alain/mam/Global_Prcp_Tmax_byYear.csv', index = False) "
   ]
  },
  {
   "cell_type": "code",
   "execution_count": null,
   "metadata": {
    "collapsed": true
   },
   "outputs": [],
   "source": [
    "# Save the df as a .csv in this notebook\n",
    "Global_Prcp_Tmax_byYear_DF.to_csv('Global_Prcp_Tmax_byYear_DF.csv', index = False)"
   ]
  },
  {
   "cell_type": "markdown",
   "metadata": {},
   "source": [
    "# This second section begins with the two .csv files that were downloaded from the cluster and will now be used to create visualizations on a local machine using pandas and matplotlib."
   ]
  },
  {
   "cell_type": "markdown",
   "metadata": {},
   "source": [
    "The following cells will all execute in order from your local machine; if you would like the two .csv files, I can send them to you."
   ]
  },
  {
   "cell_type": "code",
   "execution_count": 1,
   "metadata": {
    "collapsed": true
   },
   "outputs": [],
   "source": [
    "import numpy as np\n",
    "import pandas as pd\n",
    "import matplotlib.pyplot as plt"
   ]
  },
  {
   "cell_type": "code",
   "execution_count": 2,
   "metadata": {
    "collapsed": false,
    "scrolled": false
   },
   "outputs": [],
   "source": [
    "# Read the .csv file from the notebooks' home directory\n",
    "US_Prcp_Tmax_byMonth_DF = pd.read_csv('US_Prcp_Tmax_byMonth_DF.csv')"
   ]
  },
  {
   "cell_type": "code",
   "execution_count": 3,
   "metadata": {
    "collapsed": true
   },
   "outputs": [],
   "source": [
    "del US_Prcp_Tmax_byMonth_DF['Time']"
   ]
  },
  {
   "cell_type": "code",
   "execution_count": 4,
   "metadata": {
    "collapsed": false,
    "scrolled": true
   },
   "outputs": [
    {
     "data": {
      "text/html": [
       "<div>\n",
       "<table border=\"1\" class=\"dataframe\">\n",
       "  <thead>\n",
       "    <tr style=\"text-align: right;\">\n",
       "      <th></th>\n",
       "      <th>Year</th>\n",
       "      <th>Month</th>\n",
       "      <th>Element</th>\n",
       "      <th>AverageValue</th>\n",
       "    </tr>\n",
       "  </thead>\n",
       "  <tbody>\n",
       "    <tr>\n",
       "      <th>0</th>\n",
       "      <td>1836</td>\n",
       "      <td>7</td>\n",
       "      <td>PRCP</td>\n",
       "      <td>48.777778</td>\n",
       "    </tr>\n",
       "    <tr>\n",
       "      <th>1</th>\n",
       "      <td>1836</td>\n",
       "      <td>8</td>\n",
       "      <td>PRCP</td>\n",
       "      <td>15.387097</td>\n",
       "    </tr>\n",
       "    <tr>\n",
       "      <th>2</th>\n",
       "      <td>1836</td>\n",
       "      <td>9</td>\n",
       "      <td>PRCP</td>\n",
       "      <td>80.833333</td>\n",
       "    </tr>\n",
       "    <tr>\n",
       "      <th>3</th>\n",
       "      <td>1836</td>\n",
       "      <td>10</td>\n",
       "      <td>PRCP</td>\n",
       "      <td>9.580645</td>\n",
       "    </tr>\n",
       "    <tr>\n",
       "      <th>4</th>\n",
       "      <td>1836</td>\n",
       "      <td>11</td>\n",
       "      <td>PRCP</td>\n",
       "      <td>22.633333</td>\n",
       "    </tr>\n",
       "  </tbody>\n",
       "</table>\n",
       "</div>"
      ],
      "text/plain": [
       "   Year  Month Element  AverageValue\n",
       "0  1836      7    PRCP     48.777778\n",
       "1  1836      8    PRCP     15.387097\n",
       "2  1836      9    PRCP     80.833333\n",
       "3  1836     10    PRCP      9.580645\n",
       "4  1836     11    PRCP     22.633333"
      ]
     },
     "execution_count": 4,
     "metadata": {},
     "output_type": "execute_result"
    }
   ],
   "source": [
    "US_Prcp_Tmax_byMonth_DF.head(5)"
   ]
  },
  {
   "cell_type": "code",
   "execution_count": 5,
   "metadata": {
    "collapsed": true
   },
   "outputs": [],
   "source": [
    "# Here, I will create four bubble plots for the US precipitation values mapped by season for each year from 1900 to 2016.\n",
    "################################################################################################################################"
   ]
  },
  {
   "cell_type": "code",
   "execution_count": 6,
   "metadata": {
    "collapsed": true
   },
   "outputs": [],
   "source": [
    "# This new average value will be properly scaled to Fehrenheit and mm as the original average value was tenths of degrees celsius\n",
    "# for max temperature and tenths of mm for precipitation. \n",
    "AverageValue2 = []\n",
    "for i in US_Prcp_Tmax_byMonth_DF.index:\n",
    "    if (US_Prcp_Tmax_byMonth_DF['Element'][i] == 'PRCP'):\n",
    "        AverageValue2.append(US_Prcp_Tmax_byMonth_DF['AverageValue'][i]/10)\n",
    "    else:\n",
    "        AverageValue2.append((9*US_Prcp_Tmax_byMonth_DF['AverageValue'][i]/50)+32) "
   ]
  },
  {
   "cell_type": "code",
   "execution_count": 7,
   "metadata": {
    "collapsed": true
   },
   "outputs": [],
   "source": [
    "US_Prcp_Tmax_byMonth_DF['AverageValue2_F_mm'] = AverageValue2"
   ]
  },
  {
   "cell_type": "code",
   "execution_count": 8,
   "metadata": {
    "collapsed": false
   },
   "outputs": [
    {
     "data": {
      "text/html": [
       "<div>\n",
       "<table border=\"1\" class=\"dataframe\">\n",
       "  <thead>\n",
       "    <tr style=\"text-align: right;\">\n",
       "      <th></th>\n",
       "      <th>Year</th>\n",
       "      <th>Month</th>\n",
       "      <th>Element</th>\n",
       "      <th>AverageValue</th>\n",
       "      <th>AverageValue2_F_mm</th>\n",
       "    </tr>\n",
       "  </thead>\n",
       "  <tbody>\n",
       "    <tr>\n",
       "      <th>0</th>\n",
       "      <td>1836</td>\n",
       "      <td>7</td>\n",
       "      <td>PRCP</td>\n",
       "      <td>48.777778</td>\n",
       "      <td>4.877778</td>\n",
       "    </tr>\n",
       "    <tr>\n",
       "      <th>1</th>\n",
       "      <td>1836</td>\n",
       "      <td>8</td>\n",
       "      <td>PRCP</td>\n",
       "      <td>15.387097</td>\n",
       "      <td>1.538710</td>\n",
       "    </tr>\n",
       "    <tr>\n",
       "      <th>2</th>\n",
       "      <td>1836</td>\n",
       "      <td>9</td>\n",
       "      <td>PRCP</td>\n",
       "      <td>80.833333</td>\n",
       "      <td>8.083333</td>\n",
       "    </tr>\n",
       "    <tr>\n",
       "      <th>3</th>\n",
       "      <td>1836</td>\n",
       "      <td>10</td>\n",
       "      <td>PRCP</td>\n",
       "      <td>9.580645</td>\n",
       "      <td>0.958065</td>\n",
       "    </tr>\n",
       "    <tr>\n",
       "      <th>4</th>\n",
       "      <td>1836</td>\n",
       "      <td>11</td>\n",
       "      <td>PRCP</td>\n",
       "      <td>22.633333</td>\n",
       "      <td>2.263333</td>\n",
       "    </tr>\n",
       "  </tbody>\n",
       "</table>\n",
       "</div>"
      ],
      "text/plain": [
       "   Year  Month Element  AverageValue  AverageValue2_F_mm\n",
       "0  1836      7    PRCP     48.777778            4.877778\n",
       "1  1836      8    PRCP     15.387097            1.538710\n",
       "2  1836      9    PRCP     80.833333            8.083333\n",
       "3  1836     10    PRCP      9.580645            0.958065\n",
       "4  1836     11    PRCP     22.633333            2.263333"
      ]
     },
     "execution_count": 8,
     "metadata": {},
     "output_type": "execute_result"
    }
   ],
   "source": [
    "US_Prcp_Tmax_byMonth_DF.head(5)"
   ]
  },
  {
   "cell_type": "code",
   "execution_count": 9,
   "metadata": {
    "collapsed": true
   },
   "outputs": [],
   "source": [
    "# Select only the precipitation data.\n",
    "US_Prcp_byMonth_DF = US_Prcp_Tmax_byMonth_DF[US_Prcp_Tmax_byMonth_DF.Element != 'TMAX']"
   ]
  },
  {
   "cell_type": "code",
   "execution_count": 10,
   "metadata": {
    "collapsed": false
   },
   "outputs": [
    {
     "name": "stderr",
     "output_type": "stream",
     "text": [
      "C:\\Users\\mikes\\Anaconda\\lib\\site-packages\\ipykernel\\__main__.py:18: SettingWithCopyWarning: \n",
      "A value is trying to be set on a copy of a slice from a DataFrame.\n",
      "Try using .loc[row_indexer,col_indexer] = value instead\n",
      "\n",
      "See the caveats in the documentation: http://pandas.pydata.org/pandas-docs/stable/indexing.html#indexing-view-versus-copy\n"
     ]
    }
   ],
   "source": [
    "# Function to add seasons\n",
    "def season_type(df):\n",
    "    m = int(df['Month'])\n",
    "    spring = range(3, 6)\n",
    "    summer = range(6, 9)\n",
    "    fall = range(9,12)\n",
    "    if m in spring:\n",
    "        season = \"Spring\"\n",
    "    elif m in summer:\n",
    "        season = \"Summer\"\n",
    "    elif m in fall:\n",
    "        season = \"Fall\"\n",
    "    else:\n",
    "        season = \"Winter\"\n",
    "    return season\n",
    "\n",
    "# applying the Function to the dataframe\n",
    "US_Prcp_byMonth_DF['Season'] = US_Prcp_byMonth_DF.apply(season_type, axis = 1)"
   ]
  },
  {
   "cell_type": "code",
   "execution_count": 11,
   "metadata": {
    "collapsed": false
   },
   "outputs": [
    {
     "data": {
      "text/html": [
       "<div>\n",
       "<table border=\"1\" class=\"dataframe\">\n",
       "  <thead>\n",
       "    <tr style=\"text-align: right;\">\n",
       "      <th></th>\n",
       "      <th>Year</th>\n",
       "      <th>Month</th>\n",
       "      <th>Element</th>\n",
       "      <th>AverageValue</th>\n",
       "      <th>AverageValue2_F_mm</th>\n",
       "      <th>Season</th>\n",
       "    </tr>\n",
       "  </thead>\n",
       "  <tbody>\n",
       "    <tr>\n",
       "      <th>0</th>\n",
       "      <td>1836</td>\n",
       "      <td>7</td>\n",
       "      <td>PRCP</td>\n",
       "      <td>48.777778</td>\n",
       "      <td>4.877778</td>\n",
       "      <td>Summer</td>\n",
       "    </tr>\n",
       "    <tr>\n",
       "      <th>1</th>\n",
       "      <td>1836</td>\n",
       "      <td>8</td>\n",
       "      <td>PRCP</td>\n",
       "      <td>15.387097</td>\n",
       "      <td>1.538710</td>\n",
       "      <td>Summer</td>\n",
       "    </tr>\n",
       "    <tr>\n",
       "      <th>2</th>\n",
       "      <td>1836</td>\n",
       "      <td>9</td>\n",
       "      <td>PRCP</td>\n",
       "      <td>80.833333</td>\n",
       "      <td>8.083333</td>\n",
       "      <td>Fall</td>\n",
       "    </tr>\n",
       "    <tr>\n",
       "      <th>3</th>\n",
       "      <td>1836</td>\n",
       "      <td>10</td>\n",
       "      <td>PRCP</td>\n",
       "      <td>9.580645</td>\n",
       "      <td>0.958065</td>\n",
       "      <td>Fall</td>\n",
       "    </tr>\n",
       "    <tr>\n",
       "      <th>4</th>\n",
       "      <td>1836</td>\n",
       "      <td>11</td>\n",
       "      <td>PRCP</td>\n",
       "      <td>22.633333</td>\n",
       "      <td>2.263333</td>\n",
       "      <td>Fall</td>\n",
       "    </tr>\n",
       "  </tbody>\n",
       "</table>\n",
       "</div>"
      ],
      "text/plain": [
       "   Year  Month Element  AverageValue  AverageValue2_F_mm  Season\n",
       "0  1836      7    PRCP     48.777778            4.877778  Summer\n",
       "1  1836      8    PRCP     15.387097            1.538710  Summer\n",
       "2  1836      9    PRCP     80.833333            8.083333    Fall\n",
       "3  1836     10    PRCP      9.580645            0.958065    Fall\n",
       "4  1836     11    PRCP     22.633333            2.263333    Fall"
      ]
     },
     "execution_count": 11,
     "metadata": {},
     "output_type": "execute_result"
    }
   ],
   "source": [
    "US_Prcp_byMonth_DF.head(5)"
   ]
  },
  {
   "cell_type": "code",
   "execution_count": 12,
   "metadata": {
    "collapsed": true
   },
   "outputs": [],
   "source": [
    "# Select only the data for years 1900 - 2016.\n",
    "US_Prcp_byMonth_DF = US_Prcp_byMonth_DF[US_Prcp_byMonth_DF.Year > 1899]"
   ]
  },
  {
   "cell_type": "code",
   "execution_count": 13,
   "metadata": {
    "collapsed": false
   },
   "outputs": [
    {
     "data": {
      "text/html": [
       "<div>\n",
       "<table border=\"1\" class=\"dataframe\">\n",
       "  <thead>\n",
       "    <tr style=\"text-align: right;\">\n",
       "      <th></th>\n",
       "      <th>Year</th>\n",
       "      <th>Month</th>\n",
       "      <th>Element</th>\n",
       "      <th>AverageValue</th>\n",
       "      <th>AverageValue2_F_mm</th>\n",
       "      <th>Season</th>\n",
       "    </tr>\n",
       "  </thead>\n",
       "  <tbody>\n",
       "    <tr>\n",
       "      <th>1155</th>\n",
       "      <td>1900</td>\n",
       "      <td>1</td>\n",
       "      <td>PRCP</td>\n",
       "      <td>19.453504</td>\n",
       "      <td>1.945350</td>\n",
       "      <td>Winter</td>\n",
       "    </tr>\n",
       "    <tr>\n",
       "      <th>1158</th>\n",
       "      <td>1900</td>\n",
       "      <td>2</td>\n",
       "      <td>PRCP</td>\n",
       "      <td>28.566417</td>\n",
       "      <td>2.856642</td>\n",
       "      <td>Winter</td>\n",
       "    </tr>\n",
       "    <tr>\n",
       "      <th>1160</th>\n",
       "      <td>1900</td>\n",
       "      <td>3</td>\n",
       "      <td>PRCP</td>\n",
       "      <td>23.952534</td>\n",
       "      <td>2.395253</td>\n",
       "      <td>Spring</td>\n",
       "    </tr>\n",
       "    <tr>\n",
       "      <th>1162</th>\n",
       "      <td>1900</td>\n",
       "      <td>4</td>\n",
       "      <td>PRCP</td>\n",
       "      <td>27.880507</td>\n",
       "      <td>2.788051</td>\n",
       "      <td>Spring</td>\n",
       "    </tr>\n",
       "    <tr>\n",
       "      <th>1163</th>\n",
       "      <td>1900</td>\n",
       "      <td>5</td>\n",
       "      <td>PRCP</td>\n",
       "      <td>23.350901</td>\n",
       "      <td>2.335090</td>\n",
       "      <td>Spring</td>\n",
       "    </tr>\n",
       "  </tbody>\n",
       "</table>\n",
       "</div>"
      ],
      "text/plain": [
       "      Year  Month Element  AverageValue  AverageValue2_F_mm  Season\n",
       "1155  1900      1    PRCP     19.453504            1.945350  Winter\n",
       "1158  1900      2    PRCP     28.566417            2.856642  Winter\n",
       "1160  1900      3    PRCP     23.952534            2.395253  Spring\n",
       "1162  1900      4    PRCP     27.880507            2.788051  Spring\n",
       "1163  1900      5    PRCP     23.350901            2.335090  Spring"
      ]
     },
     "execution_count": 13,
     "metadata": {},
     "output_type": "execute_result"
    }
   ],
   "source": [
    "US_Prcp_byMonth_DF.head(5)"
   ]
  },
  {
   "cell_type": "code",
   "execution_count": 14,
   "metadata": {
    "collapsed": true
   },
   "outputs": [],
   "source": [
    "# Select only the summer data.\n",
    "US_Prcp_Summer_byMonth_DF = US_Prcp_byMonth_DF[US_Prcp_byMonth_DF.Season == 'Summer']"
   ]
  },
  {
   "cell_type": "code",
   "execution_count": 15,
   "metadata": {
    "collapsed": true
   },
   "outputs": [],
   "source": [
    "# Plot the summer bubble plot.\n",
    "x = US_Prcp_Summer_byMonth_DF['Year']\n",
    "y = US_Prcp_Summer_byMonth_DF['AverageValue2_F_mm'] \n",
    "s = 60*US_Prcp_Summer_byMonth_DF['AverageValue2_F_mm']**4\n",
    "Plot1 = plt.scatter(x,y,s=s, c='orange', edgecolor='orange', alpha=.5)\n",
    "plt.tick_params(axis='both', which='major', labelsize=10)\n",
    "plt.title(\"US Precipitation by Year for Summer Months Only\\n (June,July,Aug)\",fontsize=30)\n",
    "plt.xlabel(\"Time By Year\",fontsize=25)\n",
    "plt.ylabel(\"Seasonal Average Precipitation (mm)\",fontsize=25)\n",
    "plt.show()"
   ]
  },
  {
   "cell_type": "code",
   "execution_count": 16,
   "metadata": {
    "collapsed": true
   },
   "outputs": [],
   "source": [
    "# Select only the spring data.\n",
    "US_Prcp_Spring_byMonth_DF = US_Prcp_byMonth_DF[US_Prcp_byMonth_DF.Season == 'Spring']"
   ]
  },
  {
   "cell_type": "code",
   "execution_count": 17,
   "metadata": {
    "collapsed": true
   },
   "outputs": [],
   "source": [
    "# Plot the spring bubble plot.\n",
    "x = US_Prcp_Spring_byMonth_DF['Year']\n",
    "y = US_Prcp_Spring_byMonth_DF['AverageValue2_F_mm'] \n",
    "s = 60*US_Prcp_Spring_byMonth_DF['AverageValue2_F_mm']**4\n",
    "Plot1 = plt.scatter(x,y,s=s, c='green', edgecolor='green', alpha=.5)\n",
    "plt.tick_params(axis='both', which='major', labelsize=10)\n",
    "plt.title(\"US Precipitation by Year for Spring Months Only\\n (March, April, May)\",fontsize=30)\n",
    "plt.xlabel(\"Time By Year\",fontsize=25)\n",
    "plt.ylabel(\"Seasonal Average Precipitation (mm)\",fontsize=25)\n",
    "plt.show()"
   ]
  },
  {
   "cell_type": "code",
   "execution_count": 18,
   "metadata": {
    "collapsed": true
   },
   "outputs": [],
   "source": [
    "# Select only the fall data.\n",
    "US_Prcp_Fall_byMonth_DF = US_Prcp_byMonth_DF[US_Prcp_byMonth_DF.Season == 'Fall']"
   ]
  },
  {
   "cell_type": "code",
   "execution_count": 19,
   "metadata": {
    "collapsed": true
   },
   "outputs": [],
   "source": [
    "# Plot the fall bubble plot>\n",
    "x = US_Prcp_Fall_byMonth_DF['Year']\n",
    "y = US_Prcp_Fall_byMonth_DF['AverageValue2_F_mm'] \n",
    "s = 60*US_Prcp_Fall_byMonth_DF['AverageValue2_F_mm']**4\n",
    "Plot1 = plt.scatter(x,y,s=s, c='red', edgecolor='red', alpha=.5)\n",
    "plt.tick_params(axis='both', which='major', labelsize=10)\n",
    "plt.title(\"US Precipitation by Year for Fall Months Only\\n (Sept,Oct,Nov)\",fontsize=30)\n",
    "plt.xlabel(\"Time By Year\",fontsize=25)\n",
    "plt.ylabel(\"Seasonal Average Precipitation (mm)\",fontsize=25)\n",
    "plt.show()"
   ]
  },
  {
   "cell_type": "code",
   "execution_count": 20,
   "metadata": {
    "collapsed": true
   },
   "outputs": [],
   "source": [
    "US_Prcp_Winter_byMonth_DF = US_Prcp_byMonth_DF[US_Prcp_byMonth_DF.Season == 'Winter']"
   ]
  },
  {
   "cell_type": "code",
   "execution_count": 21,
   "metadata": {
    "collapsed": true
   },
   "outputs": [],
   "source": [
    "x = US_Prcp_Winter_byMonth_DF['Year']\n",
    "y = US_Prcp_Winter_byMonth_DF['AverageValue2_F_mm'] \n",
    "s = 60*US_Prcp_Winter_byMonth_DF['AverageValue2_F_mm']**4\n",
    "Plot1 = plt.scatter(x,y,s=s, c='blue', edgecolor='blue', alpha=.5)\n",
    "plt.tick_params(axis='both', which='major', labelsize=10)\n",
    "plt.title(\"US Precipitation by Year for Winter Months Only\\n (Dec,Jan,Feb)\",fontsize=30)\n",
    "plt.xlabel(\"Time By Year\",fontsize=25)\n",
    "plt.ylabel(\"Seasonal Average Precipitation (mm)\",fontsize=25)\n",
    "plt.show()"
   ]
  },
  {
   "cell_type": "code",
   "execution_count": 22,
   "metadata": {
    "collapsed": true
   },
   "outputs": [],
   "source": [
    "# Now, I will use the same US dataset for both precipitation and max temperature for all time graphed by month and create a \n",
    "# scatter plot with different colors for precipitation and max temperature.\n",
    "#########################################################################################################################"
   ]
  },
  {
   "cell_type": "code",
   "execution_count": 23,
   "metadata": {
    "collapsed": false
   },
   "outputs": [
    {
     "data": {
      "text/html": [
       "<div>\n",
       "<table border=\"1\" class=\"dataframe\">\n",
       "  <thead>\n",
       "    <tr style=\"text-align: right;\">\n",
       "      <th></th>\n",
       "      <th>Year</th>\n",
       "      <th>Month</th>\n",
       "      <th>Element</th>\n",
       "      <th>AverageValue</th>\n",
       "      <th>AverageValue2_F_mm</th>\n",
       "    </tr>\n",
       "  </thead>\n",
       "  <tbody>\n",
       "    <tr>\n",
       "      <th>0</th>\n",
       "      <td>1836</td>\n",
       "      <td>7</td>\n",
       "      <td>PRCP</td>\n",
       "      <td>48.777778</td>\n",
       "      <td>4.877778</td>\n",
       "    </tr>\n",
       "    <tr>\n",
       "      <th>1</th>\n",
       "      <td>1836</td>\n",
       "      <td>8</td>\n",
       "      <td>PRCP</td>\n",
       "      <td>15.387097</td>\n",
       "      <td>1.538710</td>\n",
       "    </tr>\n",
       "    <tr>\n",
       "      <th>2</th>\n",
       "      <td>1836</td>\n",
       "      <td>9</td>\n",
       "      <td>PRCP</td>\n",
       "      <td>80.833333</td>\n",
       "      <td>8.083333</td>\n",
       "    </tr>\n",
       "    <tr>\n",
       "      <th>3</th>\n",
       "      <td>1836</td>\n",
       "      <td>10</td>\n",
       "      <td>PRCP</td>\n",
       "      <td>9.580645</td>\n",
       "      <td>0.958065</td>\n",
       "    </tr>\n",
       "    <tr>\n",
       "      <th>4</th>\n",
       "      <td>1836</td>\n",
       "      <td>11</td>\n",
       "      <td>PRCP</td>\n",
       "      <td>22.633333</td>\n",
       "      <td>2.263333</td>\n",
       "    </tr>\n",
       "  </tbody>\n",
       "</table>\n",
       "</div>"
      ],
      "text/plain": [
       "   Year  Month Element  AverageValue  AverageValue2_F_mm\n",
       "0  1836      7    PRCP     48.777778            4.877778\n",
       "1  1836      8    PRCP     15.387097            1.538710\n",
       "2  1836      9    PRCP     80.833333            8.083333\n",
       "3  1836     10    PRCP      9.580645            0.958065\n",
       "4  1836     11    PRCP     22.633333            2.263333"
      ]
     },
     "execution_count": 23,
     "metadata": {},
     "output_type": "execute_result"
    }
   ],
   "source": [
    "# I will be graphing this by month over different years so the first step is to create a date time variable to use as the\n",
    "# index.\n",
    "US_Prcp_Tmax_byMonth_DF.head(5)"
   ]
  },
  {
   "cell_type": "code",
   "execution_count": 24,
   "metadata": {
    "collapsed": false
   },
   "outputs": [
    {
     "name": "stderr",
     "output_type": "stream",
     "text": [
      "C:\\Users\\mikes\\Anaconda\\lib\\site-packages\\ipykernel\\__main__.py:4: SettingWithCopyWarning: \n",
      "A value is trying to be set on a copy of a slice from a DataFrame.\n",
      "Try using .loc[row_indexer,col_indexer] = value instead\n",
      "\n",
      "See the caveats in the documentation: http://pandas.pydata.org/pandas-docs/stable/indexing.html#indexing-view-versus-copy\n"
     ]
    },
    {
     "data": {
      "text/html": [
       "<div>\n",
       "<table border=\"1\" class=\"dataframe\">\n",
       "  <thead>\n",
       "    <tr style=\"text-align: right;\">\n",
       "      <th></th>\n",
       "      <th>Year</th>\n",
       "      <th>Month</th>\n",
       "      <th>Day</th>\n",
       "    </tr>\n",
       "  </thead>\n",
       "  <tbody>\n",
       "    <tr>\n",
       "      <th>0</th>\n",
       "      <td>1836</td>\n",
       "      <td>7</td>\n",
       "      <td>1</td>\n",
       "    </tr>\n",
       "    <tr>\n",
       "      <th>1</th>\n",
       "      <td>1836</td>\n",
       "      <td>8</td>\n",
       "      <td>1</td>\n",
       "    </tr>\n",
       "    <tr>\n",
       "      <th>2</th>\n",
       "      <td>1836</td>\n",
       "      <td>9</td>\n",
       "      <td>1</td>\n",
       "    </tr>\n",
       "    <tr>\n",
       "      <th>3</th>\n",
       "      <td>1836</td>\n",
       "      <td>10</td>\n",
       "      <td>1</td>\n",
       "    </tr>\n",
       "    <tr>\n",
       "      <th>4</th>\n",
       "      <td>1836</td>\n",
       "      <td>11</td>\n",
       "      <td>1</td>\n",
       "    </tr>\n",
       "  </tbody>\n",
       "</table>\n",
       "</div>"
      ],
      "text/plain": [
       "   Year  Month  Day\n",
       "0  1836      7    1\n",
       "1  1836      8    1\n",
       "2  1836      9    1\n",
       "3  1836     10    1\n",
       "4  1836     11    1"
      ]
     },
     "execution_count": 24,
     "metadata": {},
     "output_type": "execute_result"
    }
   ],
   "source": [
    "# Create a data frame of only the time values needed for the date time variable with '1' as the day for every month since the day \n",
    "# is not specified in our data. \n",
    "time_DF = US_Prcp_Tmax_byMonth_DF[['Year', 'Month']]\n",
    "time_DF['Day'] = [1]*len(time_DF)\n",
    "time_DF.head(5)"
   ]
  },
  {
   "cell_type": "code",
   "execution_count": 25,
   "metadata": {
    "collapsed": false
   },
   "outputs": [],
   "source": [
    "# Now, create the color variable for the graph which is different for precipitation and max temperature.\n",
    "Weather = []\n",
    "for i in US_Prcp_Tmax_byMonth_DF.index:\n",
    "    if (US_Prcp_Tmax_byMonth_DF['Element'][i] == 'PRCP'):\n",
    "        Weather.append([1,0,0])\n",
    "    else:\n",
    "        Weather.append([0,1,0])"
   ]
  },
  {
   "cell_type": "code",
   "execution_count": 26,
   "metadata": {
    "collapsed": true
   },
   "outputs": [],
   "source": [
    "US_Prcp_Tmax_byMonth_DF['Element_Colors'] = Weather"
   ]
  },
  {
   "cell_type": "code",
   "execution_count": 27,
   "metadata": {
    "collapsed": false
   },
   "outputs": [
    {
     "data": {
      "text/html": [
       "<div>\n",
       "<table border=\"1\" class=\"dataframe\">\n",
       "  <thead>\n",
       "    <tr style=\"text-align: right;\">\n",
       "      <th></th>\n",
       "      <th>Year</th>\n",
       "      <th>Month</th>\n",
       "      <th>Element</th>\n",
       "      <th>AverageValue</th>\n",
       "      <th>AverageValue2_F_mm</th>\n",
       "      <th>Element_Colors</th>\n",
       "    </tr>\n",
       "  </thead>\n",
       "  <tbody>\n",
       "    <tr>\n",
       "      <th>1836-07-01</th>\n",
       "      <td>1836</td>\n",
       "      <td>7</td>\n",
       "      <td>PRCP</td>\n",
       "      <td>48.777778</td>\n",
       "      <td>4.877778</td>\n",
       "      <td>[1, 0, 0]</td>\n",
       "    </tr>\n",
       "    <tr>\n",
       "      <th>1836-08-01</th>\n",
       "      <td>1836</td>\n",
       "      <td>8</td>\n",
       "      <td>PRCP</td>\n",
       "      <td>15.387097</td>\n",
       "      <td>1.538710</td>\n",
       "      <td>[1, 0, 0]</td>\n",
       "    </tr>\n",
       "    <tr>\n",
       "      <th>1836-09-01</th>\n",
       "      <td>1836</td>\n",
       "      <td>9</td>\n",
       "      <td>PRCP</td>\n",
       "      <td>80.833333</td>\n",
       "      <td>8.083333</td>\n",
       "      <td>[1, 0, 0]</td>\n",
       "    </tr>\n",
       "    <tr>\n",
       "      <th>1836-10-01</th>\n",
       "      <td>1836</td>\n",
       "      <td>10</td>\n",
       "      <td>PRCP</td>\n",
       "      <td>9.580645</td>\n",
       "      <td>0.958065</td>\n",
       "      <td>[1, 0, 0]</td>\n",
       "    </tr>\n",
       "    <tr>\n",
       "      <th>1836-11-01</th>\n",
       "      <td>1836</td>\n",
       "      <td>11</td>\n",
       "      <td>PRCP</td>\n",
       "      <td>22.633333</td>\n",
       "      <td>2.263333</td>\n",
       "      <td>[1, 0, 0]</td>\n",
       "    </tr>\n",
       "  </tbody>\n",
       "</table>\n",
       "</div>"
      ],
      "text/plain": [
       "            Year  Month Element  AverageValue  AverageValue2_F_mm  \\\n",
       "1836-07-01  1836      7    PRCP     48.777778            4.877778   \n",
       "1836-08-01  1836      8    PRCP     15.387097            1.538710   \n",
       "1836-09-01  1836      9    PRCP     80.833333            8.083333   \n",
       "1836-10-01  1836     10    PRCP      9.580645            0.958065   \n",
       "1836-11-01  1836     11    PRCP     22.633333            2.263333   \n",
       "\n",
       "           Element_Colors  \n",
       "1836-07-01      [1, 0, 0]  \n",
       "1836-08-01      [1, 0, 0]  \n",
       "1836-09-01      [1, 0, 0]  \n",
       "1836-10-01      [1, 0, 0]  \n",
       "1836-11-01      [1, 0, 0]  "
      ]
     },
     "execution_count": 27,
     "metadata": {},
     "output_type": "execute_result"
    }
   ],
   "source": [
    "# Now use the date time variable as the index.\n",
    "US_Prcp_Tmax_byMonth_DF.index = pd.to_datetime(time_DF)\n",
    "US_Prcp_Tmax_byMonth_DF.head(5)"
   ]
  },
  {
   "cell_type": "code",
   "execution_count": 28,
   "metadata": {
    "collapsed": true
   },
   "outputs": [],
   "source": [
    "# Here I will creat rectangles for the legend.\n",
    "import matplotlib.patches as mpatches\n",
    "\n",
    "classes = ['Precipitation (mm)','Maximum Temperature (°F)']\n",
    "class_colours = [[1,0,0],[0,1,0]]\n",
    "recs = []\n",
    "for i in range(0,len(class_colours)):\n",
    "    recs.append(mpatches.Rectangle((0,0),1,1,fc=class_colours[i]))"
   ]
  },
  {
   "cell_type": "code",
   "execution_count": 29,
   "metadata": {
    "collapsed": true
   },
   "outputs": [],
   "source": [
    "# Plot the US precipitation and max temperature values monthly for all time with a color scheme for the points that is in the \n",
    "# legend.\n",
    "x = US_Prcp_Tmax_byMonth_DF.index\n",
    "y = US_Prcp_Tmax_byMonth_DF['AverageValue2_F_mm'] \n",
    "c = US_Prcp_Tmax_byMonth_DF['Element_Colors']\n",
    "Plot1 = plt.scatter(x,y,s=75, c=c, edgecolor=c)\n",
    "plt.tick_params(axis='both', which='major', labelsize=10)\n",
    "plt.title(\"United States Monthly Average Precipitation \\n and Maximum Temperature\",fontsize=30)\n",
    "plt.xlabel(\"Time By Month (July 1836 - November 2016)\",fontsize=25)\n",
    "plt.ylabel(\"Monthly Average Value\",fontsize=25)\n",
    "plt.legend(recs,classes,loc=4,fontsize=25)\n",
    "plt.show()"
   ]
  },
  {
   "cell_type": "code",
   "execution_count": 30,
   "metadata": {
    "collapsed": true
   },
   "outputs": [],
   "source": [
    "# Now, I will do a similar visualization as the last which was for the US only; this one is for the World\n",
    "# with precipitation and max temperature values and is mapped by year instead of month.\n",
    "###############################################################################################################"
   ]
  },
  {
   "cell_type": "code",
   "execution_count": 31,
   "metadata": {
    "collapsed": false
   },
   "outputs": [
    {
     "data": {
      "text/html": [
       "<div>\n",
       "<table border=\"1\" class=\"dataframe\">\n",
       "  <thead>\n",
       "    <tr style=\"text-align: right;\">\n",
       "      <th></th>\n",
       "      <th>Year</th>\n",
       "      <th>Element</th>\n",
       "      <th>AverageValue</th>\n",
       "    </tr>\n",
       "  </thead>\n",
       "  <tbody>\n",
       "    <tr>\n",
       "      <th>0</th>\n",
       "      <td>1763</td>\n",
       "      <td>TMAX</td>\n",
       "      <td>147.524027</td>\n",
       "    </tr>\n",
       "    <tr>\n",
       "      <th>1</th>\n",
       "      <td>1764</td>\n",
       "      <td>TMAX</td>\n",
       "      <td>153.414176</td>\n",
       "    </tr>\n",
       "    <tr>\n",
       "      <th>2</th>\n",
       "      <td>1765</td>\n",
       "      <td>TMAX</td>\n",
       "      <td>149.418510</td>\n",
       "    </tr>\n",
       "    <tr>\n",
       "      <th>3</th>\n",
       "      <td>1766</td>\n",
       "      <td>TMAX</td>\n",
       "      <td>148.438518</td>\n",
       "    </tr>\n",
       "    <tr>\n",
       "      <th>4</th>\n",
       "      <td>1767</td>\n",
       "      <td>TMAX</td>\n",
       "      <td>141.643689</td>\n",
       "    </tr>\n",
       "  </tbody>\n",
       "</table>\n",
       "</div>"
      ],
      "text/plain": [
       "   Year Element  AverageValue\n",
       "0  1763    TMAX    147.524027\n",
       "1  1764    TMAX    153.414176\n",
       "2  1765    TMAX    149.418510\n",
       "3  1766    TMAX    148.438518\n",
       "4  1767    TMAX    141.643689"
      ]
     },
     "execution_count": 31,
     "metadata": {},
     "output_type": "execute_result"
    }
   ],
   "source": [
    "# Read the .csv file.\n",
    "Global_Prcp_Tmax_byYear_DF = pd.read_csv('Global_Prcp_Tmax_byYear_DF.csv')\n",
    "Global_Prcp_Tmax_byYear_DF.head(5)"
   ]
  },
  {
   "cell_type": "code",
   "execution_count": 32,
   "metadata": {
    "collapsed": true
   },
   "outputs": [],
   "source": [
    "# Create the color variable based on the emement type; different colors for precipitation and max temperature.\n",
    "Weather2 = []\n",
    "for i in Global_Prcp_Tmax_byYear_DF.index:\n",
    "    if (Global_Prcp_Tmax_byYear_DF['Element'][i] == 'TMAX'):\n",
    "        Weather2.append([0,1,0])\n",
    "    else:\n",
    "        Weather2.append([0,0,1])"
   ]
  },
  {
   "cell_type": "code",
   "execution_count": 33,
   "metadata": {
    "collapsed": true
   },
   "outputs": [],
   "source": [
    "Global_Prcp_Tmax_byYear_DF['Element_Colors'] = Weather2"
   ]
  },
  {
   "cell_type": "code",
   "execution_count": 34,
   "metadata": {
    "collapsed": true
   },
   "outputs": [],
   "source": [
    "# This new average value will be properly scaled to Fehrenheit and MM. \n",
    "AverageValue2 = []\n",
    "for i in Global_Prcp_Tmax_byYear_DF.index:\n",
    "    if (Global_Prcp_Tmax_byYear_DF['Element'][i] == 'PRCP'):\n",
    "        AverageValue2.append(Global_Prcp_Tmax_byYear_DF['AverageValue'][i]/10)\n",
    "    else:\n",
    "        AverageValue2.append((9*Global_Prcp_Tmax_byYear_DF['AverageValue'][i]/50)+32) "
   ]
  },
  {
   "cell_type": "code",
   "execution_count": 35,
   "metadata": {
    "collapsed": true
   },
   "outputs": [],
   "source": [
    "Global_Prcp_Tmax_byYear_DF['AverageValue2_F_mm'] = AverageValue2"
   ]
  },
  {
   "cell_type": "code",
   "execution_count": 36,
   "metadata": {
    "collapsed": false
   },
   "outputs": [
    {
     "data": {
      "text/html": [
       "<div>\n",
       "<table border=\"1\" class=\"dataframe\">\n",
       "  <thead>\n",
       "    <tr style=\"text-align: right;\">\n",
       "      <th></th>\n",
       "      <th>Year</th>\n",
       "      <th>Element</th>\n",
       "      <th>AverageValue</th>\n",
       "      <th>Element_Colors</th>\n",
       "      <th>AverageValue2_F_mm</th>\n",
       "    </tr>\n",
       "  </thead>\n",
       "  <tbody>\n",
       "    <tr>\n",
       "      <th>0</th>\n",
       "      <td>1763</td>\n",
       "      <td>TMAX</td>\n",
       "      <td>147.524027</td>\n",
       "      <td>[0, 1, 0]</td>\n",
       "      <td>58.554325</td>\n",
       "    </tr>\n",
       "    <tr>\n",
       "      <th>1</th>\n",
       "      <td>1764</td>\n",
       "      <td>TMAX</td>\n",
       "      <td>153.414176</td>\n",
       "      <td>[0, 1, 0]</td>\n",
       "      <td>59.614552</td>\n",
       "    </tr>\n",
       "    <tr>\n",
       "      <th>2</th>\n",
       "      <td>1765</td>\n",
       "      <td>TMAX</td>\n",
       "      <td>149.418510</td>\n",
       "      <td>[0, 1, 0]</td>\n",
       "      <td>58.895332</td>\n",
       "    </tr>\n",
       "    <tr>\n",
       "      <th>3</th>\n",
       "      <td>1766</td>\n",
       "      <td>TMAX</td>\n",
       "      <td>148.438518</td>\n",
       "      <td>[0, 1, 0]</td>\n",
       "      <td>58.718933</td>\n",
       "    </tr>\n",
       "    <tr>\n",
       "      <th>4</th>\n",
       "      <td>1767</td>\n",
       "      <td>TMAX</td>\n",
       "      <td>141.643689</td>\n",
       "      <td>[0, 1, 0]</td>\n",
       "      <td>57.495864</td>\n",
       "    </tr>\n",
       "  </tbody>\n",
       "</table>\n",
       "</div>"
      ],
      "text/plain": [
       "   Year Element  AverageValue Element_Colors  AverageValue2_F_mm\n",
       "0  1763    TMAX    147.524027      [0, 1, 0]           58.554325\n",
       "1  1764    TMAX    153.414176      [0, 1, 0]           59.614552\n",
       "2  1765    TMAX    149.418510      [0, 1, 0]           58.895332\n",
       "3  1766    TMAX    148.438518      [0, 1, 0]           58.718933\n",
       "4  1767    TMAX    141.643689      [0, 1, 0]           57.495864"
      ]
     },
     "execution_count": 36,
     "metadata": {},
     "output_type": "execute_result"
    }
   ],
   "source": [
    "Global_Prcp_Tmax_byYear_DF.head(5)"
   ]
  },
  {
   "cell_type": "code",
   "execution_count": 37,
   "metadata": {
    "collapsed": true
   },
   "outputs": [],
   "source": [
    "# Now create the rectangles for the legend.\n",
    "classes = ['Maximum Temperature (°F)', 'Precipitation (mm)']\n",
    "class_colours = [[0,1,0],[0,0,1]]\n",
    "recs = []\n",
    "for i in range(0,len(class_colours)):\n",
    "    recs.append(mpatches.Rectangle((0,0),1,1,fc=class_colours[i]))"
   ]
  },
  {
   "cell_type": "code",
   "execution_count": 38,
   "metadata": {
    "collapsed": true
   },
   "outputs": [],
   "source": [
    "# Now, plot the global average max temperatures and precipitation for all yearly periods of time.\n",
    "x = Global_Prcp_Tmax_byYear_DF['Year']\n",
    "y = Global_Prcp_Tmax_byYear_DF['AverageValue2_F_mm'] \n",
    "c = Global_Prcp_Tmax_byYear_DF['Element_Colors']\n",
    "Plot1 = plt.scatter(x,y,s=75, c=c, edgecolor=c)\n",
    "plt.tick_params(axis='both', which='major', labelsize=10)\n",
    "plt.title(\"Global Yearly Average Precipitation \\n and Maximum Temperature\",fontsize=30)\n",
    "plt.xlabel(\"Time By Year (1763 - 2016)\",fontsize=25)\n",
    "plt.ylabel(\"Yearly Average Value\",fontsize=25)\n",
    "plt.ylim(ymax = 70, ymin = 0)\n",
    "plt.xlim(xmax = 2020, xmin = 1760)\n",
    "plt.legend(recs,classes,loc=1,fontsize=20)\n",
    "plt.show()"
   ]
  }
 ],
 "metadata": {
  "anaconda-cloud": {},
  "celltoolbar": "Raw Cell Format",
  "kernelspec": {
   "display_name": "Python [Root]",
   "language": "python",
   "name": "Python [Root]"
  },
  "language_info": {
   "codemirror_mode": {
    "name": "ipython",
    "version": 3
   },
   "file_extension": ".py",
   "mimetype": "text/x-python",
   "name": "python",
   "nbconvert_exporter": "python",
   "pygments_lexer": "ipython3",
   "version": "3.5.2"
  }
 },
 "nbformat": 4,
 "nbformat_minor": 1
}
